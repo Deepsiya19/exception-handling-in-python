{
 "cells": [
  {
   "cell_type": "markdown",
   "id": "cd0047fc-9fb4-46eb-bd29-7385d7c2468e",
   "metadata": {},
   "source": [
    "# 12 feb assignment"
   ]
  },
  {
   "cell_type": "markdown",
   "id": "e44f49ca-cd73-486a-9632-f0bd2164c590",
   "metadata": {},
   "source": [
    "# Answer-1"
   ]
  },
  {
   "cell_type": "code",
   "execution_count": 1,
   "id": "966e2c35-2249-4d4e-aee3-befb94638199",
   "metadata": {},
   "outputs": [],
   "source": [
    "#An exception is an error that occurs during the execution of a program. Exceptions are raised when some internal events occur which change the normal \n",
    "# flow of the program1. In Python, there are several built-in exceptions that can be raised when an error occurs during the execution of a program.\n",
    "\n",
    "# On the other hand, a syntax error is an error that occurs when the interpreter encounters invalid syntax in the code. Syntax errors are produced\n",
    "# by Python when it is translating the source code into byte code. They usually indicate that there is something wrong with the syntax of the program.\n",
    "\n",
    "# syntax errors occur when the proper syntax of the language is not followed, while exceptions occur when a syntactically correct Python code raises\n",
    "# an error during its execution."
   ]
  },
  {
   "cell_type": "markdown",
   "id": "d96cb7e9-9ff9-4d4f-9802-dbf71eb0dfe1",
   "metadata": {
    "tags": []
   },
   "source": [
    "# Answer-2"
   ]
  },
  {
   "cell_type": "code",
   "execution_count": 3,
   "id": "52d0c1a0-1be6-46ef-b9af-c5d5901fc7d3",
   "metadata": {},
   "outputs": [
    {
     "ename": "ZeroDivisionError",
     "evalue": "division by zero",
     "output_type": "error",
     "traceback": [
      "\u001b[0;31m---------------------------------------------------------------------------\u001b[0m",
      "\u001b[0;31mZeroDivisionError\u001b[0m                         Traceback (most recent call last)",
      "Cell \u001b[0;32mIn[3], line 7\u001b[0m\n\u001b[1;32m      5\u001b[0m numerator \u001b[38;5;241m=\u001b[39m \u001b[38;5;241m10\u001b[39m\n\u001b[1;32m      6\u001b[0m denominator \u001b[38;5;241m=\u001b[39m \u001b[38;5;241m0\u001b[39m\n\u001b[0;32m----> 7\u001b[0m result \u001b[38;5;241m=\u001b[39m \u001b[43mnumerator\u001b[49m\u001b[43m \u001b[49m\u001b[38;5;241;43m/\u001b[39;49m\u001b[43m \u001b[49m\u001b[43mdenominator\u001b[49m\n\u001b[1;32m      8\u001b[0m \u001b[38;5;28mprint\u001b[39m(result)\n\u001b[1;32m      9\u001b[0m \u001b[38;5;66;03m#In this example, we are trying to divide a number by 0, which raises a ZeroDivisionError exception. Since we have not included any code to handle this\u001b[39;00m\n\u001b[1;32m     10\u001b[0m \u001b[38;5;66;03m# exception, the program execution will get interrupted and display an error message.\u001b[39;00m\n",
      "\u001b[0;31mZeroDivisionError\u001b[0m: division by zero"
     ]
    }
   ],
   "source": [
    "# When an exception is not handled in Python, it will cause the program to crash and display an error message. This is why it is important to\n",
    "# handle exceptions properly in your code using try-except blocks or other error-handling techniques, in order to gracefully handle errors and prevent \n",
    "# the program from crashing.\n",
    "# example:-\n",
    "numerator = 10\n",
    "denominator = 0\n",
    "result = numerator / denominator\n",
    "print(result)\n",
    "#In this example, we are trying to divide a number by 0, which raises a ZeroDivisionError exception. Since we have not included any code to handle this\n",
    "# exception, the program execution will get interrupted and display an error message."
   ]
  },
  {
   "cell_type": "markdown",
   "id": "f2d3ee87-1364-441d-a74f-7d1ba6c746f8",
   "metadata": {},
   "source": [
    "# Answer-3"
   ]
  },
  {
   "cell_type": "code",
   "execution_count": 1,
   "id": "aa7a3f25-55bf-43cd-b477-ee7be4d79132",
   "metadata": {},
   "outputs": [
    {
     "name": "stdout",
     "output_type": "stream",
     "text": [
      "Error: Cannot add an integer and a string.\n"
     ]
    }
   ],
   "source": [
    "# In Python, the try and except statements are used to catch and handle exceptions. Statements that can raise exceptions are kept inside the\n",
    "# try clause and the statements that handle the exception are written inside the except clause.\n",
    "# example:-\n",
    "try:\n",
    "    x = 5\n",
    "    y = 'hello'\n",
    "    z = x + y\n",
    "    print(z)\n",
    "except TypeError:\n",
    "    print(\"Error: Cannot add an integer and a string.\")\n",
    "# In this example, we are trying to add an integer and a string, which raises a TypeError exception. We have included a try block that \n",
    "# contains the code that might generate an exception, and an except block that specifies how to handle the exception if it occurs. \n",
    "# When the exception is raised, the code inside the except block is executed, and the program continues running without crashing "
   ]
  },
  {
   "cell_type": "markdown",
   "id": "7bd5ce69-ed7e-48f8-9a3b-9ececbebeb86",
   "metadata": {},
   "source": [
    "# Answer-4"
   ]
  },
  {
   "cell_type": "code",
   "execution_count": 3,
   "id": "df06cff5-9948-4398-9983-94ad2255a074",
   "metadata": {},
   "outputs": [
    {
     "name": "stdin",
     "output_type": "stream",
     "text": [
      "Enter a number:  diya\n"
     ]
    },
    {
     "name": "stdout",
     "output_type": "stream",
     "text": [
      "invalid literal for int() with base 10: 'diya'\n",
      "Thank you for using our program.\n"
     ]
    }
   ],
   "source": [
    "# In Python, the try, except, else, and finally statements are used to catch and handle exceptions. The raise statement is used to raise an \n",
    "# exception explicitly.\n",
    "# example-\n",
    "try:\n",
    "    x = int(input(\"Enter a number: \"))\n",
    "    if x < 0:\n",
    "        raise ValueError(\"Error: Number must be positive.\")\n",
    "    else:\n",
    "        print(f\"The square of {x} is {x**2}.\")\n",
    "except ValueError as e:\n",
    "    print(e)\n",
    "finally:\n",
    "    print(\"Thank you for using our program.\")\n",
    "# In this example, we are asking the user to enter a number. If the user enters a negative number, we raise a ValueError exception explicitly \n",
    "# using the raise statement. The try block contains the code that might generate an exception, and the except block specifies how to handle the \n",
    "# exception if it occurs. The else block is executed if no exception occurs in the try block. The finally block is always executed, regardless of\n",
    "# whether an exception occurs or not1.\n",
    "\n",
    "# When you run this code, you will see different outputs depending on the input provided by the user. If the user enters a positive number,\n",
    "# the square of the number is printed and the finally block is executed. If the user enters a negative number or a non-numeric value,\n",
    "# an exception is raised and caught by the except block, and the error message is printed along with the message from the finally block."
   ]
  },
  {
   "cell_type": "markdown",
   "id": "0b0cf58f-d9a9-4ce2-9d19-82103d4650af",
   "metadata": {},
   "source": [
    "# Answer-5"
   ]
  },
  {
   "cell_type": "code",
   "execution_count": 5,
   "id": "485f290f-2ea6-44ac-86d7-2a8bb08dd97a",
   "metadata": {},
   "outputs": [
    {
     "name": "stdout",
     "output_type": "stream",
     "text": [
      "CustomError occurred\n"
     ]
    }
   ],
   "source": [
    "# Custom exceptions in Python are user-defined exceptions that serve a specific purpose. Python has many built-in exceptions, but sometimes we may\n",
    "# need to create our own custom exceptions to handle specific situations that are not covered by the built-in exceptions.\n",
    "# examole-\n",
    "class CustomError(Exception):\n",
    "    pass\n",
    "try:\n",
    "    # code that might generate an exception\n",
    "    raise CustomError\n",
    "except CustomError:\n",
    "    # handle the exception\n",
    "    print(\"CustomError occurred\")\n",
    "# In this example, we have defined a custom exception called CustomError by creating a new class that inherits from the Exception class.\n",
    "# We can then use the raise statement to raise this exception explicitly in our code, and use a try-except block to catch and handle the exception \n",
    "# if it occurs"
   ]
  },
  {
   "cell_type": "markdown",
   "id": "c5a1543c-8007-4760-a325-64d3d67014f0",
   "metadata": {},
   "source": [
    "# Answer-6"
   ]
  },
  {
   "cell_type": "code",
   "execution_count": 6,
   "id": "1af5e61a-a2aa-4e58-ae18-e57bcda967aa",
   "metadata": {},
   "outputs": [
    {
     "name": "stdin",
     "output_type": "stream",
     "text": [
      "Enter your email address:  diya\n"
     ]
    },
    {
     "name": "stdout",
     "output_type": "stream",
     "text": [
      "Invalid email address: missing '@' symbol\n"
     ]
    }
   ],
   "source": [
    "class InvalidEmailError(Exception):\n",
    "    pass\n",
    "\n",
    "def validate_email(email):\n",
    "    if '@' not in email:\n",
    "        raise InvalidEmailError(\"Invalid email address: missing '@' symbol\")\n",
    "    # additional validation code here\n",
    "\n",
    "try:\n",
    "    email = input(\"Enter your email address: \")\n",
    "    validate_email(email)\n",
    "    print(\"Email address is valid\")\n",
    "except InvalidEmailError as e:\n",
    "    print(e)"
   ]
  },
  {
   "cell_type": "code",
   "execution_count": null,
   "id": "075ac9a0-7b4f-4e29-8dd6-c301c3270e5c",
   "metadata": {},
   "outputs": [],
   "source": []
  }
 ],
 "metadata": {
  "kernelspec": {
   "display_name": "Python 3 (ipykernel)",
   "language": "python",
   "name": "python3"
  },
  "language_info": {
   "codemirror_mode": {
    "name": "ipython",
    "version": 3
   },
   "file_extension": ".py",
   "mimetype": "text/x-python",
   "name": "python",
   "nbconvert_exporter": "python",
   "pygments_lexer": "ipython3",
   "version": "3.10.8"
  }
 },
 "nbformat": 4,
 "nbformat_minor": 5
}
